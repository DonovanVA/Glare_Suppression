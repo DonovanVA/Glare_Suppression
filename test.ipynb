{
 "cells": [
  {
   "cell_type": "code",
   "execution_count": 1,
   "id": "a83e99d0",
   "metadata": {},
   "outputs": [
    {
     "name": "stdout",
     "output_type": "stream",
     "text": [
      "Requirement already satisfied: ipykernel in /Users/donovanng/opt/anaconda3/envs/tf/lib/python3.7/site-packages (6.16.2)\n",
      "Requirement already satisfied: jupyter-client>=6.1.12 in /Users/donovanng/opt/anaconda3/envs/tf/lib/python3.7/site-packages (from ipykernel) (7.4.9)\n",
      "Requirement already satisfied: nest-asyncio in /Users/donovanng/opt/anaconda3/envs/tf/lib/python3.7/site-packages (from ipykernel) (1.6.0)\n",
      "Requirement already satisfied: packaging in /Users/donovanng/opt/anaconda3/envs/tf/lib/python3.7/site-packages (from ipykernel) (24.0)\n",
      "Requirement already satisfied: traitlets>=5.1.0 in /Users/donovanng/opt/anaconda3/envs/tf/lib/python3.7/site-packages (from ipykernel) (5.9.0)\n",
      "Requirement already satisfied: psutil in /Users/donovanng/opt/anaconda3/envs/tf/lib/python3.7/site-packages (from ipykernel) (7.0.0)\n",
      "Requirement already satisfied: pyzmq>=17 in /Users/donovanng/opt/anaconda3/envs/tf/lib/python3.7/site-packages (from ipykernel) (24.0.1)\n",
      "Requirement already satisfied: debugpy>=1.0 in /Users/donovanng/opt/anaconda3/envs/tf/lib/python3.7/site-packages (from ipykernel) (1.7.0)\n",
      "Requirement already satisfied: tornado>=6.1 in /Users/donovanng/opt/anaconda3/envs/tf/lib/python3.7/site-packages (from ipykernel) (6.2)\n",
      "Requirement already satisfied: appnope in /Users/donovanng/opt/anaconda3/envs/tf/lib/python3.7/site-packages (from ipykernel) (0.1.4)\n",
      "Requirement already satisfied: ipython>=7.23.1 in /Users/donovanng/opt/anaconda3/envs/tf/lib/python3.7/site-packages (from ipykernel) (7.33.0)\n",
      "Requirement already satisfied: matplotlib-inline>=0.1 in /Users/donovanng/opt/anaconda3/envs/tf/lib/python3.7/site-packages (from ipykernel) (0.1.7)\n",
      "Requirement already satisfied: setuptools>=18.5 in /Users/donovanng/opt/anaconda3/envs/tf/lib/python3.7/site-packages (from ipython>=7.23.1->ipykernel) (65.6.3)\n",
      "Requirement already satisfied: pickleshare in /Users/donovanng/opt/anaconda3/envs/tf/lib/python3.7/site-packages (from ipython>=7.23.1->ipykernel) (0.7.5)\n",
      "Requirement already satisfied: backcall in /Users/donovanng/opt/anaconda3/envs/tf/lib/python3.7/site-packages (from ipython>=7.23.1->ipykernel) (0.2.0)\n",
      "Requirement already satisfied: decorator in /Users/donovanng/opt/anaconda3/envs/tf/lib/python3.7/site-packages (from ipython>=7.23.1->ipykernel) (4.4.2)\n",
      "Requirement already satisfied: pexpect>4.3 in /Users/donovanng/opt/anaconda3/envs/tf/lib/python3.7/site-packages (from ipython>=7.23.1->ipykernel) (4.9.0)\n",
      "Requirement already satisfied: prompt-toolkit!=3.0.0,!=3.0.1,<3.1.0,>=2.0.0 in /Users/donovanng/opt/anaconda3/envs/tf/lib/python3.7/site-packages (from ipython>=7.23.1->ipykernel) (3.0.43)\n",
      "Requirement already satisfied: jedi>=0.16 in /Users/donovanng/opt/anaconda3/envs/tf/lib/python3.7/site-packages (from ipython>=7.23.1->ipykernel) (0.18.2)\n",
      "Requirement already satisfied: pygments in /Users/donovanng/opt/anaconda3/envs/tf/lib/python3.7/site-packages (from ipython>=7.23.1->ipykernel) (2.16.1)\n",
      "Requirement already satisfied: entrypoints in /Users/donovanng/opt/anaconda3/envs/tf/lib/python3.7/site-packages (from jupyter-client>=6.1.12->ipykernel) (0.4)\n",
      "Requirement already satisfied: python-dateutil>=2.8.2 in /Users/donovanng/opt/anaconda3/envs/tf/lib/python3.7/site-packages (from jupyter-client>=6.1.12->ipykernel) (2.8.2)\n",
      "Requirement already satisfied: jupyter-core>=4.9.2 in /Users/donovanng/opt/anaconda3/envs/tf/lib/python3.7/site-packages (from jupyter-client>=6.1.12->ipykernel) (4.12.0)\n",
      "Requirement already satisfied: parso<0.9.0,>=0.8.0 in /Users/donovanng/opt/anaconda3/envs/tf/lib/python3.7/site-packages (from jedi>=0.16->ipython>=7.23.1->ipykernel) (0.8.4)\n",
      "Requirement already satisfied: ptyprocess>=0.5 in /Users/donovanng/opt/anaconda3/envs/tf/lib/python3.7/site-packages (from pexpect>4.3->ipython>=7.23.1->ipykernel) (0.7.0)\n",
      "Requirement already satisfied: wcwidth in /Users/donovanng/opt/anaconda3/envs/tf/lib/python3.7/site-packages (from prompt-toolkit!=3.0.0,!=3.0.1,<3.1.0,>=2.0.0->ipython>=7.23.1->ipykernel) (0.1.9)\n",
      "Requirement already satisfied: six>=1.5 in /Users/donovanng/opt/anaconda3/envs/tf/lib/python3.7/site-packages (from python-dateutil>=2.8.2->jupyter-client>=6.1.12->ipykernel) (1.16.0)\n",
      "Cloning into 'TASHR'...\n",
      "remote: Enumerating objects: 379, done.\u001b[K\n",
      "remote: Counting objects: 100% (164/164), done.\u001b[K\n",
      "remote: Compressing objects: 100% (95/95), done.\u001b[K\n",
      "remote: Total 379 (delta 63), reused 154 (delta 55), pack-reused 215 (from 1)\u001b[K\n",
      "Receiving objects: 100% (379/379), 18.05 MiB | 3.79 MiB/s, done.\n",
      "Resolving deltas: 100% (142/142), done.\n"
     ]
    }
   ],
   "source": [
    "! pip install ipykernel --upgrade\n",
    "! git clone https://github.com/weizequan/TASHR"
   ]
  },
  {
   "cell_type": "code",
   "execution_count": 4,
   "id": "16c7e5db",
   "metadata": {},
   "outputs": [
    {
     "name": "stdout",
     "output_type": "stream",
     "text": [
      "Requirement already satisfied: numpy in /Users/donovanng/opt/anaconda3/envs/tf/lib/python3.7/site-packages (1.21.6)\n",
      "Collecting scipy\n",
      "  Downloading scipy-1.7.3-cp37-cp37m-macosx_10_9_x86_64.whl (33.0 MB)\n",
      "\u001b[2K     \u001b[90m━━━━━━━━━━━━━━━━━━━━━━━━━━━━━━━━━━━━━━━━\u001b[0m \u001b[32m33.0/33.0 MB\u001b[0m \u001b[31m6.5 MB/s\u001b[0m eta \u001b[36m0:00:00\u001b[0m00:01\u001b[0m00:01\u001b[0m\n",
      "\u001b[?25hCollecting matplotlib\n",
      "  Downloading matplotlib-3.5.3-cp37-cp37m-macosx_10_9_x86_64.whl (7.3 MB)\n",
      "\u001b[2K     \u001b[90m━━━━━━━━━━━━━━━━━━━━━━━━━━━━━━━━━━━━━━━━\u001b[0m \u001b[32m7.3/7.3 MB\u001b[0m \u001b[31m4.9 MB/s\u001b[0m eta \u001b[36m0:00:00\u001b[0m00:01\u001b[0m00:01\u001b[0m\n",
      "\u001b[?25hRequirement already satisfied: pillow in /Users/donovanng/opt/anaconda3/envs/tf/lib/python3.7/site-packages (7.2.0)\n",
      "Collecting cycler>=0.10\n",
      "  Downloading cycler-0.11.0-py3-none-any.whl (6.4 kB)\n",
      "Collecting pyparsing>=2.2.1\n",
      "  Using cached pyparsing-3.1.4-py3-none-any.whl (104 kB)\n",
      "Collecting fonttools>=4.22.0\n",
      "  Downloading fonttools-4.38.0-py3-none-any.whl (965 kB)\n",
      "\u001b[2K     \u001b[90m━━━━━━━━━━━━━━━━━━━━━━━━━━━━━━━━━━━━━━━\u001b[0m \u001b[32m965.4/965.4 kB\u001b[0m \u001b[31m4.7 MB/s\u001b[0m eta \u001b[36m0:00:00\u001b[0m00:01\u001b[0m00:01\u001b[0m\n",
      "\u001b[?25hRequirement already satisfied: packaging>=20.0 in /Users/donovanng/opt/anaconda3/envs/tf/lib/python3.7/site-packages (from matplotlib) (24.0)\n",
      "Requirement already satisfied: python-dateutil>=2.7 in /Users/donovanng/opt/anaconda3/envs/tf/lib/python3.7/site-packages (from matplotlib) (2.8.2)\n",
      "Collecting kiwisolver>=1.0.1\n",
      "  Downloading kiwisolver-1.4.5-cp37-cp37m-macosx_10_9_x86_64.whl (67 kB)\n",
      "\u001b[2K     \u001b[90m━━━━━━━━━━━━━━━━━━━━━━━━━━━━━━━━━━━━━━━━\u001b[0m \u001b[32m67.5/67.5 kB\u001b[0m \u001b[31m1.8 MB/s\u001b[0m eta \u001b[36m0:00:00\u001b[0m\n",
      "\u001b[?25hRequirement already satisfied: typing-extensions in /Users/donovanng/opt/anaconda3/envs/tf/lib/python3.7/site-packages (from kiwisolver>=1.0.1->matplotlib) (4.7.1)\n",
      "Requirement already satisfied: six>=1.5 in /Users/donovanng/opt/anaconda3/envs/tf/lib/python3.7/site-packages (from python-dateutil>=2.7->matplotlib) (1.16.0)\n",
      "Installing collected packages: scipy, pyparsing, kiwisolver, fonttools, cycler, matplotlib\n",
      "Successfully installed cycler-0.11.0 fonttools-4.38.0 kiwisolver-1.4.5 matplotlib-3.5.3 pyparsing-3.1.4 scipy-1.7.3\n",
      "Collecting easydict\n",
      "  Downloading easydict-1.13-py3-none-any.whl (6.8 kB)\n",
      "Collecting opencv-python\n",
      "  Downloading opencv-python-4.11.0.86.tar.gz (95.2 MB)\n",
      "\u001b[2K     \u001b[90m━━━━━━━━━━━━━━━━━━━━━━━━━━━━━━━━━━━━━━━━\u001b[0m \u001b[32m95.2/95.2 MB\u001b[0m \u001b[31m5.4 MB/s\u001b[0m eta \u001b[36m0:00:00\u001b[0m00:01\u001b[0m00:01\u001b[0mm\n",
      "\u001b[?25h  Installing build dependencies ... \u001b[?25ldone\n",
      "\u001b[?25h  Getting requirements to build wheel ... \u001b[?25ldone\n",
      "\u001b[?25h  Preparing metadata (pyproject.toml) ... \u001b[?25ldone\n",
      "\u001b[?25hRequirement already satisfied: keras in /Users/donovanng/opt/anaconda3/envs/tf/lib/python3.7/site-packages (2.11.0)\n",
      "Requirement already satisfied: h5py in /Users/donovanng/opt/anaconda3/envs/tf/lib/python3.7/site-packages (3.8.0)\n",
      "Collecting PyYAML\n",
      "  Downloading PyYAML-6.0.1-cp37-cp37m-macosx_10_9_x86_64.whl (189 kB)\n",
      "\u001b[2K     \u001b[90m━━━━━━━━━━━━━━━━━━━━━━━━━━━━━━━━━━━━━━━\u001b[0m \u001b[32m189.6/189.6 kB\u001b[0m \u001b[31m2.1 MB/s\u001b[0m eta \u001b[36m0:00:00\u001b[0ma \u001b[36m0:00:01\u001b[0m\n",
      "\u001b[?25hRequirement already satisfied: numpy>=1.17.0 in /Users/donovanng/opt/anaconda3/envs/tf/lib/python3.7/site-packages (from opencv-python) (1.21.6)\n",
      "Building wheels for collected packages: opencv-python\n",
      "  Building wheel for opencv-python (pyproject.toml) ... \u001b[?25l|^C\n"
     ]
    }
   ],
   "source": [
    "#! pip install tensorflow-cpu\n",
    "! chmod +x ./TASHR/ocr/setup.sh && ./TASHR/ocr/setup.sh"
   ]
  },
  {
   "cell_type": "code",
   "execution_count": 5,
   "id": "0e9b1d47",
   "metadata": {},
   "outputs": [
    {
     "name": "stdout",
     "output_type": "stream",
     "text": [
      "The TensorFlow library was compiled to use AVX instructions, but these aren't available on your machine.\n",
      "^C\n"
     ]
    }
   ],
   "source": [
    "! python TASHR/lite_train.py"
   ]
  }
 ],
 "metadata": {
  "kernelspec": {
   "display_name": "tf",
   "language": "python",
   "name": "python3"
  },
  "language_info": {
   "codemirror_mode": {
    "name": "ipython",
    "version": 3
   },
   "file_extension": ".py",
   "mimetype": "text/x-python",
   "name": "python",
   "nbconvert_exporter": "python",
   "pygments_lexer": "ipython3",
   "version": "3.7.12"
  }
 },
 "nbformat": 4,
 "nbformat_minor": 5
}
